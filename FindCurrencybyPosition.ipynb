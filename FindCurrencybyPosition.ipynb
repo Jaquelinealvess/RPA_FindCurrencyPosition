{
 "cells": [
  {
   "cell_type": "code",
   "execution_count": 3,
   "id": "b91cb9fa",
   "metadata": {},
   "outputs": [],
   "source": [
    "# utilizando a posção relativa\n",
    "import pyautogui as posicaoAbrirGoogle\n",
    "posicaoAbrirGoogle.sleep(6)\n",
    "# print(posicaoAbrirGoogle.position())\n",
    "posicaoAbrirGoogle.moveTo(x=33, y=399)\n",
    "posicaoAbrirGoogle.doubleClick(x=33, y=399)\n",
    "posicaoAbrirGoogle.sleep(8)\n",
    "\n",
    "# Abrir google e Escolher o usuário/conta \n",
    "posicaoAbrirGoogle.moveTo(x=431, y=316)\n",
    "posicaoAbrirGoogle.doubleClick(x=431, y=316)\n",
    "posicaoAbrirGoogle.sleep(6)\n",
    "\n",
    "# escrever url do google\n",
    "posicaoAbrirGoogle.typewrite('https://www.google.com/')\n",
    "posicaoAbrirGoogle.sleep(3)\n",
    "# preesionar enter\n",
    "posicaoAbrirGoogle.press('enter')\n",
    "posicaoAbrirGoogle.sleep(6)\n",
    "\n",
    "# print(posicaoAbrirGoogle.position())\n",
    "# Point(x=1365, y=0)\n",
    "\n",
    "# escrever dolar hoje \n",
    "posicaoAbrirGoogle.typewrite('dolar hoje')\n",
    "posicaoAbrirGoogle.sleep(3)\n",
    "# preesionar enter e aguardar\n",
    "posicaoAbrirGoogle.press('enter')\n",
    "posicaoAbrirGoogle.sleep(3)\n",
    "\n",
    "# print(posicaoAbrirGoogle.position())\n",
    "# Point(x=1365, y=0)"
   ]
  },
  {
   "cell_type": "code",
   "execution_count": null,
   "id": "d46fd81c",
   "metadata": {},
   "outputs": [],
   "source": []
  }
 ],
 "metadata": {
  "kernelspec": {
   "display_name": "Python 3 (ipykernel)",
   "language": "python",
   "name": "python3"
  },
  "language_info": {
   "codemirror_mode": {
    "name": "ipython",
    "version": 3
   },
   "file_extension": ".py",
   "mimetype": "text/x-python",
   "name": "python",
   "nbconvert_exporter": "python",
   "pygments_lexer": "ipython3",
   "version": "3.9.12"
  }
 },
 "nbformat": 4,
 "nbformat_minor": 5
}
